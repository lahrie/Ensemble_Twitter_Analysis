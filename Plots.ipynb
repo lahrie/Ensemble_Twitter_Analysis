{
  "nbformat": 4,
  "nbformat_minor": 0,
  "metadata": {
    "colab": {
      "name": "Plots.ipynb",
      "provenance": [],
      "authorship_tag": "ABX9TyN6XszfK1K6N3mCD/lscqRc",
      "include_colab_link": true
    },
    "kernelspec": {
      "name": "python3",
      "display_name": "Python 3"
    },
    "language_info": {
      "name": "python"
    }
  },
  "cells": [
    {
      "cell_type": "markdown",
      "metadata": {
        "id": "view-in-github",
        "colab_type": "text"
      },
      "source": [
        "<a href=\"https://colab.research.google.com/github/lahrie/Ensemble_Twitter_Analysis/blob/main/Plots.ipynb\" target=\"_parent\"><img src=\"https://colab.research.google.com/assets/colab-badge.svg\" alt=\"Open In Colab\"/></a>"
      ]
    },
    {
      "cell_type": "code",
      "execution_count": null,
      "metadata": {
        "colab": {
          "base_uri": "https://localhost:8080/"
        },
        "id": "do-zY9J8H0MC",
        "outputId": "279bb61e-9d39-45ec-e7e2-3b00935299a5"
      },
      "outputs": [
        {
          "output_type": "stream",
          "name": "stdout",
          "text": [
            "Collecting utils\n",
            "  Downloading utils-1.0.1-py2.py3-none-any.whl (21 kB)\n",
            "Installing collected packages: utils\n",
            "Successfully installed utils-1.0.1\n"
          ]
        }
      ],
      "source": [
        "pip install utils"
      ]
    },
    {
      "cell_type": "code",
      "source": [
        "import matplotlib.pyplot as plt\n",
        "import numpy as np\n",
        "import utils\n",
        "import pickle\n",
        "%matplotlib inline"
      ],
      "metadata": {
        "id": "-8BS3_2jH1Rx"
      },
      "execution_count": null,
      "outputs": []
    },
    {
      "cell_type": "code",
      "source": [
        "FREQ_DIST_FILE = '../train-processed-freqdist.pkl'\n",
        "BI_FREQ_DIST_FILE = '../train-processed-freqdist-bi.pkl'"
      ],
      "metadata": {
        "id": "QPEvlNvrH7PE"
      },
      "execution_count": null,
      "outputs": []
    },
    {
      "cell_type": "code",
      "source": [
        "with open(FREQ_DIST_FILE, 'rb') as pkl_file:\n",
        "    freq_dist = pickle.load(pkl_file)\n",
        "unigrams = freq_dist.most_common(20)\n",
        "unigrams"
      ],
      "metadata": {
        "id": "8b0lGmb1IXvV"
      },
      "execution_count": null,
      "outputs": []
    },
    {
      "cell_type": "code",
      "source": [
        "plt.figure(1, [10, 7])\n",
        "x = np.array(range(0, 40, 2))\n",
        "y = np.array([i[1] for i in unigrams])\n",
        "my_xticks = [i[0] for i in unigrams]\n",
        "plt.xticks(x, my_xticks, rotation=90)\n",
        "plt.plot(x, y)"
      ],
      "metadata": {
        "id": "akWTdOK-IbN4"
      },
      "execution_count": null,
      "outputs": []
    },
    {
      "cell_type": "code",
      "source": [
        "with open(BI_FREQ_DIST_FILE, 'rb') as pkl_file:\n",
        "    freq_dist = pickle.load(pkl_file)\n",
        "bigrams = freq_dist.most_common(20)\n",
        "bigrams"
      ],
      "metadata": {
        "id": "c-DMtsRXIfus"
      },
      "execution_count": null,
      "outputs": []
    },
    {
      "cell_type": "code",
      "source": [
        "plt.figure(1, [10, 7])\n",
        "x = np.array(range(0, 40, 2))\n",
        "y = np.array([i[1] for i in bigrams])\n",
        "my_xticks = [', '.join(i[0]) for i in bigrams]\n",
        "plt.xticks(x, my_xticks, rotation=90)\n",
        "plt.plot(x, y)"
      ],
      "metadata": {
        "id": "a_-5Ax_bIhNO"
      },
      "execution_count": null,
      "outputs": []
    },
    {
      "cell_type": "code",
      "source": [
        "with open(FREQ_DIST_FILE, 'rb') as pkl_file:\n",
        "    freq_dist = pickle.load(pkl_file)\n",
        "unigrams = freq_dist.most_common(100)\n",
        "log_ranks = np.log(range(1, 101))\n",
        "log_freqs = np.log([i[1] for i in unigrams])\n",
        "z = np.polyfit(log_ranks, log_freqs, 1)\n",
        "p = np.poly1d(z)\n",
        "p"
      ],
      "metadata": {
        "id": "Y4Kz71kTIjPW"
      },
      "execution_count": null,
      "outputs": []
    },
    {
      "cell_type": "code",
      "source": [
        "plt.figure(3, [8,6])\n",
        "plt.plot(log_ranks, log_freqs, 'ro')\n",
        "plt.plot(log_ranks,p(log_ranks),'b-')\n",
        "plt.xlabel('log (Rank)')\n",
        "plt.ylabel('log (Freqeuncy)')\n",
        "plt.title('Zipf\\'s Law')"
      ],
      "metadata": {
        "id": "SDWr5FnMIk3l"
      },
      "execution_count": null,
      "outputs": []
    },
    {
      "cell_type": "code",
      "source": [
        "classifiers = ['Baseline', 'Naive Bayes', 'MaxEnt', 'Decision Tree', 'Random Forest', 'XGBoost', 'SVM', 'MLP', 'LSTM', 'CNN', 'Ensemble']\n",
        "accuracies = [63.48, 79.68, 81.52, 68.1, 77.21, 78.72, 81.55, 81.7, 83.00, 83.34, 83.58]\n",
        "plt.figure(4, [8,6])\n",
        "plt.bar(range(len(classifiers)), accuracies, align='center', alpha=0.5)\n",
        "plt.xticks(range(len(classifiers)), classifiers, rotation=90)\n",
        "plt.ylabel('Accuracy')\n",
        "plt.title('Comparison of Various Classifiers')\n",
        "plt.ylim([60, 90])"
      ],
      "metadata": {
        "colab": {
          "base_uri": "https://localhost:8080/",
          "height": 474
        },
        "id": "XIVNoZ6gIPaX",
        "outputId": "b3d840de-6f5a-4a7e-fb23-382c2949a51f"
      },
      "execution_count": null,
      "outputs": [
        {
          "output_type": "execute_result",
          "data": {
            "text/plain": [
              "(60.0, 90.0)"
            ]
          },
          "metadata": {},
          "execution_count": 10
        },
        {
          "output_type": "display_data",
          "data": {
            "image/png": "[encoded data removed]",
            "text/plain": [
              "<Figure size 576x432 with 1 Axes>"
            ]
          },
          "metadata": {
            "needs_background": "light"
          }
        }
      ]
    }
  ]
}